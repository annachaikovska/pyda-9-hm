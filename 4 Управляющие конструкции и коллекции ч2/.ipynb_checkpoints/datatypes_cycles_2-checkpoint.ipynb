{
 "cells": [
  {
   "cell_type": "markdown",
   "metadata": {},
   "source": [
    "**Задание 1**. Дан список с визитами по городам и странам. \n",
    "Напишите код, который возвращает отфильтрованный список geo_logs, содержащий только визиты из России."
   ]
  },
  {
   "cell_type": "code",
   "execution_count": 43,
   "metadata": {},
   "outputs": [],
   "source": [
    "geo_logs = [\n",
    "    {'visit1': ['Москва', 'Россия']},\n",
    "    {'visit2': ['Дели', 'Индия']},\n",
    "    {'visit3': ['Владимир', 'Россия']},\n",
    "    {'visit4': ['Лиссабон', 'Португалия']},\n",
    "    {'visit5': ['Париж', 'Франция']},\n",
    "    {'visit6': ['Лиссабон', 'Португалия']},\n",
    "    {'visit7': ['Тула', 'Россия']},\n",
    "    {'visit8': ['Тула', 'Россия']},\n",
    "    {'visit9': ['Курск', 'Россия']},\n",
    "    {'visit10': ['Архангельск', 'Россия']}\n",
    "]"
   ]
  },
  {
   "cell_type": "code",
   "execution_count": 44,
   "metadata": {},
   "outputs": [
    {
     "name": "stdout",
     "output_type": "stream",
     "text": [
      "[{'visit1': ['Москва', 'Россия']}, {'visit3': ['Владимир', 'Россия']}, {'visit7': ['Тула', 'Россия']}, {'visit8': ['Тула', 'Россия']}, {'visit9': ['Курск', 'Россия']}, {'visit10': ['Архангельск', 'Россия']}]\n"
     ]
    }
   ],
   "source": [
    "geo_logs_filtered = []\n",
    "for i, visit in enumerate(geo_logs):\n",
    "    for value in geo_logs[i].values():\n",
    "        if value[1] == 'Россия' :\n",
    "            geo_logs_filtered.append(visit)\n",
    "    else:\n",
    "        continue\n",
    "print(geo_logs_filtered)"
   ]
  },
  {
   "cell_type": "markdown",
   "metadata": {},
   "source": [
    "**Задание 2**. Выведите на экран все уникальные гео-ID из значений словаря ids. Т. е. список вида [213, 15, 54, 119, 98, 35]"
   ]
  },
  {
   "cell_type": "code",
   "execution_count": 46,
   "metadata": {},
   "outputs": [],
   "source": [
    "ids = {'user1': [213, 213, 213, 15, 213], \n",
    "       'user2': [54, 54, 119, 119, 119], \n",
    "       'user3': [213, 98, 98, 35]}"
   ]
  },
  {
   "cell_type": "code",
   "execution_count": 50,
   "metadata": {},
   "outputs": [
    {
     "name": "stdout",
     "output_type": "stream",
     "text": [
      "[98, 35, 15, 213, 54, 119]\n"
     ]
    }
   ],
   "source": [
    "unique_ids = set()\n",
    "for value in ids.values():\n",
    "    for item in value:\n",
    "        unique_ids.add(item)\n",
    "print(list(unique_ids))"
   ]
  },
  {
   "cell_type": "code",
   "execution_count": 51,
   "metadata": {},
   "outputs": [
    {
     "name": "stdout",
     "output_type": "stream",
     "text": [
      "[213, 15, 54, 119, 98, 35]\n"
     ]
    }
   ],
   "source": [
    "unique_ids = []\n",
    "for value in ids.values():\n",
    "    for item in value:\n",
    "        if item not in unique_ids:\n",
    "            unique_ids.append(item)\n",
    "        else:\n",
    "            continue\n",
    "print(unique_ids)"
   ]
  },
  {
   "cell_type": "markdown",
   "metadata": {},
   "source": [
    "**Задание 3**. Дан список поисковых запросов. Получить распределение количества слов в них. \n",
    "Т. е. поисковых запросов из одного - слова 5%, из двух - 7%, из трех - 3% и т.д."
   ]
  },
  {
   "cell_type": "code",
   "execution_count": 95,
   "metadata": {},
   "outputs": [],
   "source": [
    "queries = [\n",
    "    'смотреть сериалы онлайн',\n",
    "    'новости спорта',\n",
    "    'афиша кино',\n",
    "    'курс доллара',\n",
    "    'сериалы этим летом',\n",
    "    'курс по питону',\n",
    "    'сериалы про спорт',\n",
    "]"
   ]
  },
  {
   "cell_type": "code",
   "execution_count": 140,
   "metadata": {},
   "outputs": [
    {
     "name": "stdout",
     "output_type": "stream",
     "text": [
      "Процент запросов из 3 слов - 57.14 %\n",
      "Процент запросов из 2 слов - 42.86 %\n"
     ]
    }
   ],
   "source": [
    "query_quantity = {}\n",
    "for i, query in enumerate(queries):\n",
    "    query_list = queries[i].split(' ')\n",
    "    if len(query_list) not in query_quantity:\n",
    "        query_quantity[len(query_list)] = 1\n",
    "    else:\n",
    "        query_quantity[len(query_list)] +=1\n",
    "for words, frequency in query_quantity.items():\n",
    "    print('Процент запросов из', words, 'слов -', round(frequency/(i+1)*100,2),'%')\n",
    "        \n",
    "        \n",
    "    "
   ]
  },
  {
   "cell_type": "markdown",
   "metadata": {},
   "source": [
    "**Задание 4**. Дана статистика рекламных каналов по объемам продаж. Напишите скрипт, который возвращает название канала с максимальным объемом.\n",
    "Т. е. в данном примере скрипт должен возвращать 'yandex'."
   ]
  },
  {
   "cell_type": "code",
   "execution_count": 79,
   "metadata": {},
   "outputs": [
    {
     "name": "stdout",
     "output_type": "stream",
     "text": [
      "yandex\n"
     ]
    }
   ],
   "source": [
    "stats = {'facebook': 55, 'yandex': 120, 'vk': 115, 'google': 99, 'email': 42, 'ok': 98}\n",
    "max_value = 0\n",
    "max_key = ''\n",
    "for key, value in stats.items():\n",
    "    if value > max_value:\n",
    "        max_value = value\n",
    "        max_key = key\n",
    "print (max_key)"
   ]
  },
  {
   "cell_type": "markdown",
   "metadata": {},
   "source": [
    "**Задание 5**. Напишите код для преобразования произвольного списка вида ['2018-01-01', 'yandex', 'cpc', 100] (он может быть любой длины) в словарь {'2018-01-01': {'yandex': {'cpc': 100}}}"
   ]
  },
  {
   "cell_type": "code",
   "execution_count": 38,
   "metadata": {},
   "outputs": [],
   "source": [
    "my_list = ['2018-01-01', 'yandex', 'cpc', 100]"
   ]
  },
  {
   "cell_type": "code",
   "execution_count": 45,
   "metadata": {},
   "outputs": [
    {
     "name": "stdout",
     "output_type": "stream",
     "text": [
      "{'2018-01-01': {'yandex': {'cpc': 100}}}\n"
     ]
    }
   ],
   "source": [
    "reverse_list = my_list[::-1]\n",
    "my_dict = {}\n",
    "for i, item in enumerate(reverse_list):\n",
    "    if i == 0:\n",
    "        key = reverse_list[i+1]\n",
    "        value = item\n",
    "        my_dict[key] = value\n",
    "        value = dict(my_dict)\n",
    "        del(my_dict[key])\n",
    "    elif i <= len(reverse_list)-2:\n",
    "        key = reverse_list[i+1]\n",
    "        my_dict[key] = value\n",
    "        value = dict(my_dict)\n",
    "        del(my_dict[key])\n",
    "print(value) "
   ]
  }
 ],
 "metadata": {
  "kernelspec": {
   "display_name": "Python 3",
   "language": "python",
   "name": "python3"
  },
  "language_info": {
   "codemirror_mode": {
    "name": "ipython",
    "version": 3
   },
   "file_extension": ".py",
   "mimetype": "text/x-python",
   "name": "python",
   "nbconvert_exporter": "python",
   "pygments_lexer": "ipython3",
   "version": "3.7.6"
  }
 },
 "nbformat": 4,
 "nbformat_minor": 2
}
